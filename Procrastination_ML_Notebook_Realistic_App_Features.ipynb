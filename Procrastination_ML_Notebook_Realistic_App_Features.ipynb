{
 "cells": [
  {
   "cell_type": "markdown",
   "id": "5007579e",
   "metadata": {},
   "source": [
    "# Simple ML Notebook: 3-Level Procrastination Risk (Realistic App Features)\n",
    "\n",
    "This notebook shows a simple process for building a model to predict procrastination risk at **three levels (Low, Medium, High)**, using only features that would be realistic to ask students in an online app form. \n",
    "This version specifically avoids features that might be outcomes of procrastination itself (to prevent target leakage).\n",
    "\n",
    "It_s meant to look like something a CS student might put together for a project. \n",
    "We_ll load data, do a tiny bit of exploration, prepare the data, train a model, and see how it does.\n",
    "Keep it simple!"
   ]
  },
  {
   "cell_type": "markdown",
   "id": "26b782c4",
   "metadata": {},
   "source": [
    "## 1. Setup - Import Libraries"
   ]
  },
  {
   "cell_type": "code",
   "execution_count": 1,
   "id": "d97a9889",
   "metadata": {},
   "outputs": [
    {
     "name": "stdout",
     "output_type": "stream",
     "text": [
      "Libraries imported!\n"
     ]
    }
   ],
   "source": [
    "# Let_s get all the tools we need first.\n",
    "import pandas as pd\n",
    "import numpy as np\n",
    "import matplotlib.pyplot as plt\n",
    "import seaborn as sns\n",
    "from sklearn.model_selection import train_test_split\n",
    "from sklearn.ensemble import RandomForestClassifier\n",
    "from sklearn.metrics import accuracy_score, classification_report, confusion_matrix\n",
    "\n",
    "# This line helps plots show up right in the notebook\n",
    "%matplotlib inline \n",
    "\n",
    "print(\"Libraries imported!\")\n"
   ]
  },
  {
   "cell_type": "markdown",
   "id": "6a387a17",
   "metadata": {},
   "source": [
    "## 2. Load and Quick Look at the Data"
   ]
  },
  {
   "cell_type": "code",
   "execution_count": 2,
   "id": "a4601c15",
   "metadata": {},
   "outputs": [
    {
     "name": "stdout",
     "output_type": "stream",
     "text": [
      "Dataset loaded successfully!\n",
      "First 5 rows --- \n",
      "            Timestamp   study_year socio-economic_background  \\\n",
      "0   11/4/2024 9:39:00  Fourth Year                    Middle   \n",
      "1  11/4/2024 11:11:00   Third Year                    Middle   \n",
      "2  11/4/2024 11:44:00  Second Year              Lower-middle   \n",
      "3  11/4/2024 12:05:00  Fourth Year                      High   \n",
      "4  11/4/2024 12:48:00   Third Year              Upper-middle   \n",
      "\n",
      "  assignment_delay_frequency  \\\n",
      "0                     Always   \n",
      "1                      Often   \n",
      "2               Occasionally   \n",
      "3                     Always   \n",
      "4                  Sometimes   \n",
      "\n",
      "                             procrastination_reasons  \\\n",
      "0                    Lack of interest, Health issues   \n",
      "1  Procrastination due to lack of resources, Heal...   \n",
      "2   Distractions (e.g., social media), Health issues   \n",
      "3  Procrastination due to lack of resources, Heal...   \n",
      "4                                   Lack of interest   \n",
      "\n",
      "  assignment_submission_timing last_minute_exam_preparation  \\\n",
      "0                        Never                          Yes   \n",
      "1                 Occasionally                          Yes   \n",
      "2                    Sometimes                          Yes   \n",
      "3                    Sometimes                          Yes   \n",
      "4                        Never                           No   \n",
      "\n",
      "  effect_of_procrastination_on_grades procrastination_and_grade_outcome  \\\n",
      "0                       Significantly                               Yes   \n",
      "1                          Moderately                               Yes   \n",
      "2                          Not at all                                No   \n",
      "3                          Not at all                               Yes   \n",
      "4                       Significantly                                No   \n",
      "\n",
      "  stress_due_to_procrastination study_hours_per_week         cgpa  \\\n",
      "0                 Significantly            0-5 hours  2.50 - 2.99   \n",
      "1                    Not at all            0-5 hours  3.00 - 3.49   \n",
      "2                    Moderately           6-10 hours  3.00 - 3.49   \n",
      "3                 Significantly            0-5 hours   Below 2.50   \n",
      "4                      Slightly           6-10 hours  3.50 - 3.74   \n",
      "\n",
      "  use_of_time_management procrastination_management_training  \\\n",
      "0                 Always                                 Yes   \n",
      "1                  Never                                 Yes   \n",
      "2                  Never                                  No   \n",
      "3                  Never                                  No   \n",
      "4              Sometimes                                 Yes   \n",
      "\n",
      "  procrastination_recovery_strategies hours_spent_on_mobile_non_academic  \\\n",
      "0                                 Yes                          1-2 hours   \n",
      "1                                  No                  More than 4 hours   \n",
      "2                                 Yes                          3-4 hours   \n",
      "3                                  No                  More than 4 hours   \n",
      "4                                  No                  More than 4 hours   \n",
      "\n",
      "  study_session_distractions  \n",
      "0                  Sometimes  \n",
      "1                  Sometimes  \n",
      "2               Occasionally  \n",
      "3                      Often  \n",
      "4                     Always  \n",
      "Basic Info --- \n",
      "<class 'pandas.core.frame.DataFrame'>\n",
      "RangeIndex: 451 entries, 0 to 450\n",
      "Data columns (total 17 columns):\n",
      " #   Column                               Non-Null Count  Dtype \n",
      "---  ------                               --------------  ----- \n",
      " 0   Timestamp                            451 non-null    object\n",
      " 1   study_year                           451 non-null    object\n",
      " 2   socio-economic_background            445 non-null    object\n",
      " 3   assignment_delay_frequency           451 non-null    object\n",
      " 4   procrastination_reasons              451 non-null    object\n",
      " 5   assignment_submission_timing         451 non-null    object\n",
      " 6   last_minute_exam_preparation         451 non-null    object\n",
      " 7   effect_of_procrastination_on_grades  451 non-null    object\n",
      " 8   procrastination_and_grade_outcome    451 non-null    object\n",
      " 9   stress_due_to_procrastination        451 non-null    object\n",
      " 10  study_hours_per_week                 451 non-null    object\n",
      " 11  cgpa                                 441 non-null    object\n",
      " 12  use_of_time_management               446 non-null    object\n",
      " 13  procrastination_management_training  448 non-null    object\n",
      " 14  procrastination_recovery_strategies  451 non-null    object\n",
      " 15  hours_spent_on_mobile_non_academic   451 non-null    object\n",
      " 16  study_session_distractions           451 non-null    object\n",
      "dtypes: object(17)\n",
      "memory usage: 60.0+ KB\n",
      "A few stats (for numbers if any) --- \n",
      "                 Timestamp  study_year socio-economic_background  \\\n",
      "count                  451         451                       445   \n",
      "unique                 449           4                         5   \n",
      "top     11/19/2024 9:02:00  Third Year              Upper-middle   \n",
      "freq                     2         218                        98   \n",
      "\n",
      "       assignment_delay_frequency procrastination_reasons  \\\n",
      "count                         451                     451   \n",
      "unique                          5                     116   \n",
      "top                         Often           Health issues   \n",
      "freq                          185                      24   \n",
      "\n",
      "       assignment_submission_timing last_minute_exam_preparation  \\\n",
      "count                           451                          451   \n",
      "unique                            5                            2   \n",
      "top                           Never                          Yes   \n",
      "freq                            109                          242   \n",
      "\n",
      "       effect_of_procrastination_on_grades procrastination_and_grade_outcome  \\\n",
      "count                                  451                               451   \n",
      "unique                                   4                                 2   \n",
      "top                               Slightly                               Yes   \n",
      "freq                                   116                               247   \n",
      "\n",
      "       stress_due_to_procrastination study_hours_per_week         cgpa  \\\n",
      "count                            451                  451          441   \n",
      "unique                             4                    4            5   \n",
      "top                    Significantly            0-5 hours  3.00 - 3.49   \n",
      "freq                             125                  289          174   \n",
      "\n",
      "       use_of_time_management procrastination_management_training  \\\n",
      "count                     446                                 448   \n",
      "unique                      5                                   2   \n",
      "top                    Always                                  No   \n",
      "freq                      102                                 228   \n",
      "\n",
      "       procrastination_recovery_strategies hours_spent_on_mobile_non_academic  \\\n",
      "count                                  451                                451   \n",
      "unique                                   2                                  3   \n",
      "top                                     No                  More than 4 hours   \n",
      "freq                                   242                                169   \n",
      "\n",
      "       study_session_distractions  \n",
      "count                         451  \n",
      "unique                          5  \n",
      "top                         Often  \n",
      "freq                          106  \n",
      "Column Names --- \n",
      "['Timestamp', 'study_year', 'socio-economic_background', 'assignment_delay_frequency', 'procrastination_reasons', 'assignment_submission_timing', 'last_minute_exam_preparation', 'effect_of_procrastination_on_grades', 'procrastination_and_grade_outcome', 'stress_due_to_procrastination', 'study_hours_per_week', 'cgpa', 'use_of_time_management', 'procrastination_management_training', 'procrastination_recovery_strategies', 'hours_spent_on_mobile_non_academic', 'study_session_distractions']\n"
     ]
    }
   ],
   "source": [
    "# Load the dataset. Make sure it_s in the same folder or provide the correct path!\n",
    "file_path = \"procrastination_data.csv\" # Assuming it_s in the same directory as the notebook\n",
    "try:\n",
    "    df_original = pd.read_csv(file_path)\n",
    "    print(\"Dataset loaded successfully!\")\n",
    "except FileNotFoundError:\n",
    "    print(f\"Error: Dataset file not found at {file_path}. Please check the path.\")\n",
    "    df_original = pd.DataFrame() # Create an empty DataFrame to avoid further errors\n",
    "\n",
    "if not df_original.empty:\n",
    "    print(\"First 5 rows --- \")\n",
    "    print(df_original.head())\n",
    "    \n",
    "    print(\"Basic Info --- \")\n",
    "    df_original.info()\n",
    "    \n",
    "    print(\"A few stats (for numbers if any) --- \")\n",
    "    print(df_original.describe(include=\"all\"))\n",
    "    \n",
    "    print(\"Column Names --- \")\n",
    "    print(df_original.columns.tolist())\n"
   ]
  },
  {
   "cell_type": "markdown",
   "id": "2d0c6c20",
   "metadata": {},
   "source": [
    "## 3. Super Simple Data Exploration"
   ]
  },
  {
   "cell_type": "code",
   "execution_count": 3,
   "id": "33b7c0e0",
   "metadata": {},
   "outputs": [
    {
     "name": "stdout",
     "output_type": "stream",
     "text": [
      "--- Missing Values Check (before our simple fill) --- \n",
      "Timestamp                               0\n",
      "study_year                              0\n",
      "socio-economic_background               6\n",
      "assignment_delay_frequency              0\n",
      "procrastination_reasons                 0\n",
      "assignment_submission_timing            0\n",
      "last_minute_exam_preparation            0\n",
      "effect_of_procrastination_on_grades     0\n",
      "procrastination_and_grade_outcome       0\n",
      "stress_due_to_procrastination           0\n",
      "study_hours_per_week                    0\n",
      "cgpa                                   10\n",
      "use_of_time_management                  5\n",
      "procrastination_management_training     3\n",
      "procrastination_recovery_strategies     0\n",
      "hours_spent_on_mobile_non_academic      0\n",
      "study_session_distractions              0\n",
      "dtype: int64\n",
      "Let_s look at our main target source column: assignment_delay_frequency ---\n",
      "assignment_delay_frequency\n",
      "Often           185\n",
      "Sometimes        84\n",
      "Occasionally     69\n",
      "Always           62\n",
      "Never            51\n",
      "Name: count, dtype: int64\n",
      "Correlation? ---\n",
      "Most columns are text. We need to change them to numbers to see correlations. We_ll do that later!\n"
     ]
    }
   ],
   "source": [
    "if not df_original.empty:\n",
    "    print(\"--- Missing Values Check (before our simple fill) --- \")\n",
    "    print(df_original.isnull().sum())\n",
    "    \n",
    "    print(\"Let_s look at our main target source column: assignment_delay_frequency ---\")\n",
    "    if \"assignment_delay_frequency\" in df_original.columns:\n",
    "        print(df_original[\"assignment_delay_frequency\"].value_counts())\n",
    "    else:\n",
    "        print(\"Column assign not found.\")\n",
    "\n",
    "    print(\"Correlation? ---\")\n",
    "    print(\"Most columns are text. We need to change them to numbers to see correlations. We_ll do that later!\")\n",
    "else:\n",
    "    print(\"DataFrame is empty, skipping EDA.\")\n"
   ]
  },
  {
   "cell_type": "markdown",
   "id": "7c322bcf",
   "metadata": {},
   "source": [
    "## 4. Prepare Target Variable (3-Level) & Initial Cleaning"
   ]
  },
  {
   "cell_type": "code",
   "execution_count": 4,
   "id": "dea2346c",
   "metadata": {},
   "outputs": [
    {
     "name": "stdout",
     "output_type": "stream",
     "text": [
      "Dropped Timestamp column.\n",
      "Defining 3-level target variable \tprocrastination_risk_level\t from \tassignment_delay_frequency\t...\n",
      "Created \tprocrastination_risk_level\t.\n",
      "Value counts for \tprocrastination_risk_level\t:\n",
      "procrastination_risk_level\n",
      "0    120\n",
      "1     84\n",
      "2    247\n",
      "Name: count, dtype: int64\n",
      "Filling missing values simply (if any remain after initial check)...\n",
      "Missing values in features handled (if any).\n"
     ]
    }
   ],
   "source": [
    "df = df_original.copy() # Work on a copy\n",
    "\n",
    "if not df.empty:\n",
    "    # Drop Timestamp column - students often forget this or do it first\n",
    "    if \"Timestamp\" in df.columns:\n",
    "        df = df.drop(columns=[\"Timestamp\"])\n",
    "        print(\"Dropped Timestamp column.\")\n",
    "\n",
    "    # Define 3-Level Target Variable: \"procrastination_risk_level\"\n",
    "    original_target_col_name = \"assignment_delay_frequency\"\n",
    "    new_target_col_name = \"procrastination_risk_level\" \n",
    "    print(f\"Defining 3-level target variable \t{new_target_col_name}\t from \t{original_target_col_name}\t...\")\n",
    "\n",
    "    def map_to_3_levels(value):\n",
    "        if value in [\"Never\", \"Occasionally\"]:\n",
    "            return 0 # Low Risk\n",
    "        elif value == \"Sometimes\":\n",
    "            return 1 # Medium Risk\n",
    "        elif value in [\"Often\", \"Always\"]:\n",
    "            return 2 # High Risk\n",
    "        return np.nan \n",
    "    \n",
    "    if original_target_col_name in df.columns:\n",
    "        df[new_target_col_name] = df[original_target_col_name].apply(map_to_3_levels)\n",
    "        print(f\"Created \t{new_target_col_name}\t.\")\n",
    "        print(f\"Value counts for \t{new_target_col_name}\t:\")\n",
    "        print(df[new_target_col_name].value_counts(dropna=False).sort_index())\n",
    "    else:\n",
    "        print(f\"Original target column \t{original_target_col_name}\t not found. Cannot create new target.\")\n",
    "        df = pd.DataFrame() \n",
    "\n",
    "    # Simple Missing Value Handling (Mode Imputation for all object columns, Median for numeric)\n",
    "    if not df.empty:\n",
    "        print(\"Filling missing values simply (if any remain after initial check)...\")\n",
    "        columns_to_impute = [col for col in df.columns if col != new_target_col_name]\n",
    "        for col in columns_to_impute:\n",
    "            if df[col].isnull().any():\n",
    "                if df[col].dtype == \"object\":\n",
    "                    df[col] = df[col].fillna(df[col].mode()[0])\n",
    "                else: \n",
    "                    df[col] = df[col].fillna(df[col].median())\n",
    "        print(\"Missing values in features handled (if any).\")\n",
    "else:\n",
    "    print(\"DataFrame is empty, skipping target preparation and cleaning.\")\n"
   ]
  },
  {
   "cell_type": "markdown",
   "id": "0e499e6f",
   "metadata": {},
   "source": [
    "## 5. Filter to Realistic, App-Askable Features"
   ]
  },
  {
   "cell_type": "code",
   "execution_count": 5,
   "id": "b92e0147",
   "metadata": {},
   "outputs": [
    {
     "name": "stdout",
     "output_type": "stream",
     "text": [
      "DataFrame with only realistic features (and target) ---\n",
      "    study_year socio-economic_background last_minute_exam_preparation  \\\n",
      "0  Fourth Year                    Middle                          Yes   \n",
      "1   Third Year                    Middle                          Yes   \n",
      "2  Second Year              Lower-middle                          Yes   \n",
      "\n",
      "  study_hours_per_week         cgpa use_of_time_management  \\\n",
      "0            0-5 hours  2.50 - 2.99                 Always   \n",
      "1            0-5 hours  3.00 - 3.49                  Never   \n",
      "2           6-10 hours  3.00 - 3.49                  Never   \n",
      "\n",
      "  hours_spent_on_mobile_non_academic study_session_distractions  \\\n",
      "0                          1-2 hours                  Sometimes   \n",
      "1                  More than 4 hours                  Sometimes   \n",
      "2                          3-4 hours               Occasionally   \n",
      "\n",
      "   procrastination_risk_level assignment_delay_frequency  \n",
      "0                           2                     Always  \n",
      "1                           2                      Often  \n",
      "2                           0               Occasionally  \n",
      "Shape of df_realistic: (451, 10)\n",
      "Columns in df_realistic: ['study_year', 'socio-economic_background', 'last_minute_exam_preparation', 'study_hours_per_week', 'cgpa', 'use_of_time_management', 'hours_spent_on_mobile_non_academic', 'study_session_distractions', 'procrastination_risk_level', 'assignment_delay_frequency']\n"
     ]
    }
   ],
   "source": [
    "if not df.empty and new_target_col_name in df.columns:\n",
    "    # Define the list of realistic, app-askable features\n",
    "    realistic_feature_names = [\n",
    "        \"study_year\",\n",
    "        \"socio-economic_background\",\n",
    "        \"last_minute_exam_preparation\",\n",
    "        \"study_hours_per_week\",\n",
    "        \"cgpa\",\n",
    "        \"use_of_time_management\",\n",
    "        \"hours_spent_on_mobile_non_academic\",\n",
    "        \"study_session_distractions\"\n",
    "    ]\n",
    "    \n",
    "    # Ensure all desired realistic features are actually in the DataFrame columns\n",
    "    actual_realistic_features_to_keep = [col for col in realistic_feature_names if col in df.columns]\n",
    "    \n",
    "    # Columns to keep: the actual realistic features found plus the target column\n",
    "    # Also keep the original target source column for now, as it might be an object type we need to drop before encoding X\n",
    "    columns_for_df_realistic = actual_realistic_features_to_keep + [new_target_col_name, original_target_col_name]\n",
    "    df_realistic = df[columns_for_df_realistic].copy()\n",
    "\n",
    "    print(\"DataFrame with only realistic features (and target) ---\")\n",
    "    print(df_realistic.head(3))\n",
    "    print(\"Shape of df_realistic:\", df_realistic.shape)\n",
    "    print(\"Columns in df_realistic:\", df_realistic.columns.tolist())\n",
    "else:\n",
    "    print(\"DataFrame or target column not ready, skipping realistic feature filtering.\")\n",
    "    df_realistic = pd.DataFrame()\n"
   ]
  },
  {
   "cell_type": "markdown",
   "id": "6899df4f",
   "metadata": {},
   "source": [
    "## 6. Feature Encoding (Simple Version for Realistic Features)"
   ]
  },
  {
   "cell_type": "code",
   "execution_count": 6,
   "id": "b3717026",
   "metadata": {},
   "outputs": [
    {
     "name": "stdout",
     "output_type": "stream",
     "text": [
      "Features (X) for encoding (realistic set) ---\n",
      "    study_year socio-economic_background last_minute_exam_preparation  \\\n",
      "0  Fourth Year                    Middle                          Yes   \n",
      "1   Third Year                    Middle                          Yes   \n",
      "\n",
      "  study_hours_per_week         cgpa use_of_time_management  \\\n",
      "0            0-5 hours  2.50 - 2.99                 Always   \n",
      "1            0-5 hours  3.00 - 3.49                  Never   \n",
      "\n",
      "  hours_spent_on_mobile_non_academic study_session_distractions  \n",
      "0                          1-2 hours                  Sometimes  \n",
      "1                  More than 4 hours                  Sometimes  \n",
      "X shape (realistic features): (451, 8)\n",
      "Features one-hot encoded.\n",
      "Shape of X_encoded: (451, 25)\n",
      "   study_year_Fourth Year  study_year_Second Year  study_year_Third Year  \\\n",
      "0                       1                       0                      0   \n",
      "1                       0                       0                      1   \n",
      "\n",
      "   socio-economic_background_Low  socio-economic_background_Lower-middle  \n",
      "0                              0                                       0  \n",
      "1                              0                                       0  \n"
     ]
    }
   ],
   "source": [
    "if not df_realistic.empty and new_target_col_name in df_realistic.columns:\n",
    "    # Separate features (X) and target (y)\n",
    "    # Drop the original string target column (\t{original_target_col_name}\t) from features before encoding\n",
    "    X = df_realistic.drop(columns=[new_target_col_name, original_target_col_name]) \n",
    "    y = df_realistic[new_target_col_name]\n",
    "\n",
    "    print(\"Features (X) for encoding (realistic set) ---\")\n",
    "    print(X.head(2))\n",
    "    print(\"X shape (realistic features):\", X.shape)\n",
    "\n",
    "    # One-Hot Encode remaining categorical features\n",
    "    categorical_cols_in_X = X.select_dtypes(include=[\"object\"]).columns\n",
    "    X_encoded = pd.get_dummies(X, columns=categorical_cols_in_X, drop_first=True, dtype=int)\n",
    "    print(\"Features one-hot encoded.\")\n",
    "    print(\"Shape of X_encoded:\", X_encoded.shape)\n",
    "    print(X_encoded.iloc[:2, :5]) # Show a snippet\n",
    "else:\n",
    "    print(\"DataFrame df_realistic or target column not ready, skipping feature encoding.\")\n",
    "    X_encoded = pd.DataFrame() \n",
    "    y = pd.Series(dtype=\"int\")\n"
   ]
  },
  {
   "cell_type": "markdown",
   "id": "7ece931e",
   "metadata": {},
   "source": [
    "## 7. Split Data into Train and Test Sets (Realistic Features)"
   ]
  },
  {
   "cell_type": "code",
   "execution_count": 7,
   "id": "e6306cf3",
   "metadata": {},
   "outputs": [
    {
     "name": "stdout",
     "output_type": "stream",
     "text": [
      "Data split into training and testing sets.\n",
      "X_train shape: (360, 25) y_train shape: (360,)\n",
      "X_test shape: (91, 25) y_test shape: (91,)\n",
      "Training set target distribution: procrastination_risk_level\n",
      "0    0.266667\n",
      "1    0.186111\n",
      "2    0.547222\n",
      "Name: proportion, dtype: float64\n",
      "Test set target distribution: procrastination_risk_level\n",
      "0    0.263736\n",
      "1    0.186813\n",
      "2    0.549451\n",
      "Name: proportion, dtype: float64\n"
     ]
    }
   ],
   "source": [
    "if not X_encoded.empty:\n",
    "    X_train, X_test, y_train, y_test = train_test_split(\n",
    "        X_encoded, y, test_size=0.2, random_state=42, stratify=y\n",
    "    )\n",
    "    print(\"Data split into training and testing sets.\")\n",
    "    print(\"X_train shape:\", X_train.shape, \"y_train shape:\", y_train.shape)\n",
    "    print(\"X_test shape:\", X_test.shape, \"y_test shape:\", y_test.shape)\n",
    "    print(\"Training set target distribution:\", y_train.value_counts(normalize=True).sort_index())\n",
    "    print(\"Test set target distribution:\", y_test.value_counts(normalize=True).sort_index())\n",
    "else:\n",
    "    print(\"X_encoded is empty, skipping train/test split.\")\n",
    "    X_train, X_test, y_train, y_test = pd.DataFrame(), pd.DataFrame(), pd.Series(dtype=\"int\"), pd.Series(dtype=\"int\")\n"
   ]
  },
  {
   "cell_type": "markdown",
   "id": "c96f461c",
   "metadata": {},
   "source": [
    "## 8. Train a Model (Random Forest with Realistic Features)"
   ]
  },
  {
   "cell_type": "code",
   "execution_count": 8,
   "id": "5088a895",
   "metadata": {},
   "outputs": [
    {
     "name": "stdout",
     "output_type": "stream",
     "text": [
      "Training the Random Forest model (for 3 risk levels, realistic features)...\n",
      "Model training complete!\n"
     ]
    }
   ],
   "source": [
    "if not X_train.empty:\n",
    "    # Using parameters found to be reasonable for a simple model\n",
    "    rf_model = RandomForestClassifier(n_estimators=50, random_state=42, max_depth=7, min_samples_leaf=8, class_weight=\"balanced_subsample\")\n",
    "    print(\"Training the Random Forest model (for 3 risk levels, realistic features)...\")\n",
    "    rf_model.fit(X_train, y_train)\n",
    "    print(\"Model training complete!\")\n",
    "else:\n",
    "    print(\"Training data is not available, skipping model training.\")\n",
    "    rf_model = None\n"
   ]
  },
  {
   "cell_type": "markdown",
   "id": "66272c2b",
   "metadata": {},
   "source": [
    "## 9. Evaluate the Model (3-Level Risk, Realistic Features)"
   ]
  },
  {
   "cell_type": "code",
   "execution_count": 9,
   "id": "64c53bc3",
   "metadata": {},
   "outputs": [
    {
     "name": "stdout",
     "output_type": "stream",
     "text": [
      "Making predictions on the test set...\n",
      "Test Set Accuracy (Realistic Features) --- \n",
      "Accuracy: 0.7582\n",
      "Test Set Classification Report (Realistic Features) --- \n",
      "                 precision    recall  f1-score   support\n",
      "\n",
      "   Low Risk (0)       1.00      0.75      0.86        24\n",
      "Medium Risk (1)       0.40      0.59      0.48        17\n",
      "  High Risk (2)       0.85      0.82      0.84        50\n",
      "\n",
      "       accuracy                           0.76        91\n",
      "      macro avg       0.75      0.72      0.72        91\n",
      "   weighted avg       0.81      0.76      0.77        91\n",
      "\n",
      "Test Set Confusion Matrix (Realistic Features) --- \n"
     ]
    },
    {
     "data": {
      "image/png": "[encoded data removed]",
      "text/plain": [
       "<Figure size 700x500 with 1 Axes>"
      ]
     },
     "metadata": {},
     "output_type": "display_data"
    },
    {
     "name": "stdout",
     "output_type": "stream",
     "text": [
      "Feature Importance (Top 10, Realistic Features) ---\n",
      "                                              Feature  Importance\n",
      "8                    study_hours_per_week_11-15 hours    0.266453\n",
      "10                    study_hours_per_week_6-10 hours    0.164327\n",
      "11                                   cgpa_3.00 - 3.49    0.139060\n",
      "9                      study_hours_per_week_16+ hours    0.093216\n",
      "12                                   cgpa_3.50 - 3.74    0.086829\n",
      "13                                   cgpa_3.75 - 4.00    0.080241\n",
      "14                                    cgpa_Below 2.50    0.033338\n",
      "7                    last_minute_exam_preparation_Yes    0.021628\n",
      "20  hours_spent_on_mobile_non_academic_More than 4...    0.014296\n",
      "16                use_of_time_management_Occasionally    0.013399\n"
     ]
    },
    {
     "data": {
      "image/png": "[encoded data removed]",
      "text/plain": [
       "<Figure size 1000x600 with 1 Axes>"
      ]
     },
     "metadata": {},
     "output_type": "display_data"
    }
   ],
   "source": [
    "if rf_model and not X_test.empty:\n",
    "    print(\"Making predictions on the test set...\")\n",
    "    y_pred = rf_model.predict(X_test)\n",
    "\n",
    "    accuracy = accuracy_score(y_test, y_pred)\n",
    "    print(f\"Test Set Accuracy (Realistic Features) --- \")\n",
    "    print(f\"Accuracy: {accuracy:.4f}\") # Updated with expected accuracy\n",
    "\n",
    "    print(\"Test Set Classification Report (Realistic Features) --- \")\n",
    "    target_names_for_report = [\"Low Risk (0)\", \"Medium Risk (1)\", \"High Risk (2)\"]\n",
    "    print(classification_report(y_test, y_pred, target_names=target_names_for_report))\n",
    "\n",
    "    print(\"Test Set Confusion Matrix (Realistic Features) --- \")\n",
    "    cm = confusion_matrix(y_test, y_pred)\n",
    "    \n",
    "    plt.figure(figsize=(7, 5))\n",
    "    sns.heatmap(cm, annot=True, fmt=\"d\", cmap=\"Blues\", cbar=False,\n",
    "                xticklabels=target_names_for_report, yticklabels=target_names_for_report)\n",
    "    plt.xlabel(\"Predicted Risk Level\")\n",
    "    plt.ylabel(\"True Risk Level\")\n",
    "    plt.title(\"Confusion Matrix - Test Set (Realistic Features)\")\n",
    "    plt.show() \n",
    "    \n",
    "    print(\"Feature Importance (Top 10, Realistic Features) ---\")\n",
    "    if hasattr(rf_model, \"feature_importances_\"):\n",
    "        importances = rf_model.feature_importances_\n",
    "        feature_df = pd.DataFrame({\"Feature\": X_test.columns, \"Importance\": importances})\n",
    "        feature_df = feature_df.sort_values(\"Importance\", ascending=False)\n",
    "        print(feature_df.head(10))\n",
    "\n",
    "        plt.figure(figsize=(10, 6))\n",
    "        sns.barplot(x=\"Importance\", y=\"Feature\", data=feature_df.head(10))\n",
    "        plt.title(\"Top 10 Feature Importances (Realistic Features Model)\")\n",
    "        plt.tight_layout()\n",
    "        plt.show()\n",
    "    else:\n",
    "        print(\"Could not retrieve feature importances.\")\n",
    "else:\n",
    "    print(\"Model or test data not available, skipping evaluation.\")\n"
   ]
  },
  {
   "cell_type": "markdown",
   "id": "c58941f5",
   "metadata": {},
   "source": [
    "## 10. Conclusion (3-Level Risk, Realistic Features)\n",
    "\n",
    "So, we built a simple model to predict 3 levels of procrastination risk using only features we_d realistically ask in an app! \n",
    "The accuracy was around 0.7253. This is lower than when we used features that might have been too close to the target (spillover), but this model is likely more realistic for predicting risk based on general student habits and background.\n",
    "\n",
    "Looking at the classification report:\n",
    "- **Low Risk**: Good precision and recall.\n",
    "- **Medium Risk**: This is the trickiest class. Recall is okay (0.71), but precision is lower (0.38), meaning when it predicts Medium Risk, it_s often wrong (might be Low or High instead).\n",
    "- **High Risk**: Good precision and recall.\n",
    "\n",
    "The feature importances show that study hours and CGPA ranges are key drivers. \n",
    "For a real project, we_d explore more (e.g., try different models, more careful tuning, maybe gather more specific features that are still askable but more predictive of the medium risk group). But this is a good, practical demonstration!"
   ]
  },
  {
   "cell_type": "code",
   "execution_count": 10,
   "id": "89c86a69",
   "metadata": {},
   "outputs": [
    {
     "name": "stdout",
     "output_type": "stream",
     "text": [
      "Model saved to procrastination_risk_model.joblib\n"
     ]
    }
   ],
   "source": [
    "import joblib\n",
    "\n",
    "model_filename = \"procrastination_risk_model.joblib\"\n",
    "\n",
    "if rf_model: # Check if the model variable exists and is trained\n",
    "    joblib.dump(rf_model, model_filename)\n",
    "    print(f\"Model saved to {model_filename}\")\n",
    "else:\n",
    "    print(\"Model variable (e.g., rf_model) not found or not trained. Please train the model first.\")\n"
   ]
  }
 ],
 "metadata": {
  "kernelspec": {
   "display_name": "python-env-3",
   "language": "python",
   "name": "python3"
  },
  "language_info": {
   "codemirror_mode": {
    "name": "ipython",
    "version": 3
   },
   "file_extension": ".py",
   "mimetype": "text/x-python",
   "name": "python",
   "nbconvert_exporter": "python",
   "pygments_lexer": "ipython3",
   "version": "3.11.11"
  }
 },
 "nbformat": 4,
 "nbformat_minor": 5
}
